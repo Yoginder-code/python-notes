{
 "cells": [
  {
   "cell_type": "markdown",
   "id": "21ba805c",
   "metadata": {},
   "source": [
    "## Check duplicates"
   ]
  },
  {
   "cell_type": "code",
   "execution_count": 4,
   "id": "e526014f",
   "metadata": {},
   "outputs": [],
   "source": [
    "a = [2,22,2,1,3,4,5]\n",
    "b = [1,2,3,4,5]"
   ]
  },
  {
   "cell_type": "code",
   "execution_count": 7,
   "id": "22b77c63",
   "metadata": {},
   "outputs": [],
   "source": [
    "# way 1\n",
    "def check_duplicates(a):\n",
    "    unique = []\n",
    "    for i in a:\n",
    "        if i not in unique:\n",
    "            unique.append(i)\n",
    "    if len(unique) == len(a):\n",
    "        print('There is no duplicates')\n",
    "    else:\n",
    "        print('There are duplicates!')"
   ]
  },
  {
   "cell_type": "code",
   "execution_count": 8,
   "id": "c6d8fc15",
   "metadata": {},
   "outputs": [
    {
     "name": "stdout",
     "output_type": "stream",
     "text": [
      "There is no duplicates\n"
     ]
    }
   ],
   "source": [
    "check_duplicates(b)"
   ]
  },
  {
   "cell_type": "code",
   "execution_count": 15,
   "id": "746baa05",
   "metadata": {},
   "outputs": [],
   "source": [
    "# way 2:\n",
    "def check_duplicates_2(a):\n",
    "    b = set(a)\n",
    "    if len(b)==len(a):\n",
    "        return 'There are no duplicates'\n",
    "    else:\n",
    "        return'There are duplicates'"
   ]
  },
  {
   "cell_type": "code",
   "execution_count": 16,
   "id": "935d82f5",
   "metadata": {},
   "outputs": [
    {
     "name": "stdout",
     "output_type": "stream",
     "text": [
      "There are duplicates\n"
     ]
    }
   ],
   "source": [
    "print(check_duplicates_2(a))"
   ]
  },
  {
   "cell_type": "code",
   "execution_count": 17,
   "id": "3e60a5ac",
   "metadata": {},
   "outputs": [
    {
     "name": "stdout",
     "output_type": "stream",
     "text": [
      "There are no duplicates\n"
     ]
    }
   ],
   "source": [
    "print(check_duplicates_2(b))"
   ]
  },
  {
   "cell_type": "markdown",
   "id": "9a051f15",
   "metadata": {},
   "source": [
    "## Find the second max"
   ]
  },
  {
   "cell_type": "code",
   "execution_count": 21,
   "id": "73a8e3e0",
   "metadata": {},
   "outputs": [],
   "source": [
    "c = [1,2,33,4]"
   ]
  },
  {
   "cell_type": "code",
   "execution_count": 24,
   "id": "15a623d2",
   "metadata": {},
   "outputs": [],
   "source": [
    "# without using python fn\n",
    "def second_max(a):\n",
    "    max_ele = a[0]\n",
    "    second_max = 0\n",
    "    for i in a:\n",
    "        if i > max_ele:\n",
    "            second_max=max_ele\n",
    "            max_ele=i\n",
    "        if i > second_max and i < max_ele:\n",
    "            second_max=i\n",
    "    return second_max"
   ]
  },
  {
   "cell_type": "code",
   "execution_count": 25,
   "id": "6edcd45e",
   "metadata": {},
   "outputs": [
    {
     "data": {
      "text/plain": [
       "4"
      ]
     },
     "execution_count": 25,
     "metadata": {},
     "output_type": "execute_result"
    }
   ],
   "source": [
    "second_max(c)"
   ]
  },
  {
   "cell_type": "markdown",
   "id": "c73e988b",
   "metadata": {},
   "source": [
    "## Find the ceil"
   ]
  },
  {
   "cell_type": "code",
   "execution_count": 45,
   "id": "81f0fd71",
   "metadata": {},
   "outputs": [
    {
     "name": "stdout",
     "output_type": "stream",
     "text": [
      "floor 4.0\n",
      "ceil 5.0\n"
     ]
    }
   ],
   "source": [
    "# logic = ceil is basically the upper limit of the float number, if we find the floor and add 1 to it then we will get the-\n",
    "# -the ceil value\n",
    "# example\n",
    "floor = 4.666//1\n",
    "print('floor',floor)\n",
    "print('ceil',floor+1)"
   ]
  },
  {
   "cell_type": "code",
   "execution_count": 36,
   "id": "6e8aefa0",
   "metadata": {},
   "outputs": [],
   "source": [
    "\n",
    "def ceil_custom(number):\n",
    "    floor = number // 1\n",
    "    \n",
    "    if number - floor == 0.0:\n",
    "        ceil = floor\n",
    "    else:\n",
    "        ceil = floor + 1\n",
    "    \n",
    "    return ceil"
   ]
  },
  {
   "cell_type": "code",
   "execution_count": 40,
   "id": "c49c72ad",
   "metadata": {},
   "outputs": [
    {
     "data": {
      "text/plain": [
       "5.0"
      ]
     },
     "execution_count": 40,
     "metadata": {},
     "output_type": "execute_result"
    }
   ],
   "source": [
    "ceil_custom(4.3)"
   ]
  },
  {
   "cell_type": "code",
   "execution_count": 41,
   "id": "c7ccbe54",
   "metadata": {},
   "outputs": [
    {
     "data": {
      "text/plain": [
       "-3.0"
      ]
     },
     "execution_count": 41,
     "metadata": {},
     "output_type": "execute_result"
    }
   ],
   "source": [
    "ceil_custom(-3.8)"
   ]
  },
  {
   "cell_type": "markdown",
   "id": "77dabc54",
   "metadata": {},
   "source": [
    "## Find whether the matrices are equal or not"
   ]
  },
  {
   "cell_type": "code",
   "execution_count": 49,
   "id": "e183be9e",
   "metadata": {},
   "outputs": [],
   "source": [
    "a = [[1,2],[3,4]]\n",
    "b = [[2,3],[5,6]]\n",
    "c = [[1,2],[3,4]]"
   ]
  },
  {
   "cell_type": "code",
   "execution_count": 50,
   "id": "e7a02650",
   "metadata": {},
   "outputs": [
    {
     "name": "stdout",
     "output_type": "stream",
     "text": [
      "False\n",
      "True\n"
     ]
    }
   ],
   "source": [
    "print(a==b)\n",
    "print(a==c)"
   ]
  },
  {
   "cell_type": "code",
   "execution_count": 51,
   "id": "d2341826",
   "metadata": {},
   "outputs": [],
   "source": [
    "# using fn\n",
    "def matrix_equal(a,b):\n",
    "    for i in range(len(a)):\n",
    "        for j in range(len(b)):\n",
    "            if a[i][j]!=b[i][j]:\n",
    "                return False\n",
    "            else:\n",
    "                return True"
   ]
  },
  {
   "cell_type": "code",
   "execution_count": 53,
   "id": "f2d84697",
   "metadata": {},
   "outputs": [
    {
     "name": "stdout",
     "output_type": "stream",
     "text": [
      "True\n",
      "False\n"
     ]
    }
   ],
   "source": [
    "print(matrix_equal(a,c))\n",
    "print(matrix_equal(a,b))"
   ]
  },
  {
   "cell_type": "markdown",
   "id": "13c2bb3b",
   "metadata": {},
   "source": [
    "## Transpose of a matrix:"
   ]
  },
  {
   "cell_type": "code",
   "execution_count": 54,
   "id": "60d5829d",
   "metadata": {},
   "outputs": [],
   "source": [
    "a = [[1,2,3],[4,5,6]]"
   ]
  },
  {
   "cell_type": "code",
   "execution_count": 57,
   "id": "05b6c19f",
   "metadata": {},
   "outputs": [],
   "source": [
    "def transpose_matrix(a):\n",
    "    rows=len(a)\n",
    "    col = len(a[0])\n",
    "    transpose=[]\n",
    "    for i in range(col):\n",
    "        row=[]\n",
    "        for j in range(rows):\n",
    "            row.append(a[j][i])\n",
    "        transpose.append(row)\n",
    "    return transpose"
   ]
  },
  {
   "cell_type": "code",
   "execution_count": 58,
   "id": "f6b7cd4d",
   "metadata": {},
   "outputs": [
    {
     "data": {
      "text/plain": [
       "[[1, 4], [2, 5], [3, 6]]"
      ]
     },
     "execution_count": 58,
     "metadata": {},
     "output_type": "execute_result"
    }
   ],
   "source": [
    "transpose_matrix(a)"
   ]
  },
  {
   "cell_type": "code",
   "execution_count": 61,
   "id": "ddba2f2b",
   "metadata": {},
   "outputs": [
    {
     "data": {
      "text/plain": [
       "array([[1, 4],\n",
       "       [2, 5],\n",
       "       [3, 6]])"
      ]
     },
     "execution_count": 61,
     "metadata": {},
     "output_type": "execute_result"
    }
   ],
   "source": [
    "# using numpy\n",
    "import numpy as np\n",
    "a = np.array(a)\n",
    "a.transpose()"
   ]
  },
  {
   "cell_type": "markdown",
   "id": "0150f1b4",
   "metadata": {},
   "source": [
    "## Check palindrome"
   ]
  },
  {
   "cell_type": "code",
   "execution_count": 62,
   "id": "7346f0b6",
   "metadata": {},
   "outputs": [],
   "source": [
    "a='YeY'"
   ]
  },
  {
   "cell_type": "code",
   "execution_count": 65,
   "id": "333ad322",
   "metadata": {},
   "outputs": [],
   "source": [
    "def palindrome(a):\n",
    "    a = a.lower()\n",
    "    return 'Palindrome' if a==a[::-1] else 'Not Palindrome'"
   ]
  },
  {
   "cell_type": "code",
   "execution_count": 66,
   "id": "28068444",
   "metadata": {},
   "outputs": [
    {
     "data": {
      "text/plain": [
       "'Palindrome'"
      ]
     },
     "execution_count": 66,
     "metadata": {},
     "output_type": "execute_result"
    }
   ],
   "source": [
    "palindrome(a)"
   ]
  },
  {
   "cell_type": "markdown",
   "id": "fc250c38",
   "metadata": {},
   "source": [
    "## String related fucntion:"
   ]
  },
  {
   "cell_type": "code",
   "execution_count": 67,
   "id": "2d505129",
   "metadata": {},
   "outputs": [],
   "source": [
    "a = 'abx'\n",
    "b = 'bcbc'\n",
    "c = 'qc'\n",
    "d = ' '.join([a,b,c])"
   ]
  },
  {
   "cell_type": "code",
   "execution_count": 68,
   "id": "00c43b68",
   "metadata": {},
   "outputs": [
    {
     "data": {
      "text/plain": [
       "'abx bcbc qc'"
      ]
     },
     "execution_count": 68,
     "metadata": {},
     "output_type": "execute_result"
    }
   ],
   "source": [
    "d"
   ]
  },
  {
   "cell_type": "code",
   "execution_count": null,
   "id": "7727a14b",
   "metadata": {},
   "outputs": [],
   "source": []
  }
 ],
 "metadata": {
  "kernelspec": {
   "display_name": "Python 3 (ipykernel)",
   "language": "python",
   "name": "python3"
  },
  "language_info": {
   "codemirror_mode": {
    "name": "ipython",
    "version": 3
   },
   "file_extension": ".py",
   "mimetype": "text/x-python",
   "name": "python",
   "nbconvert_exporter": "python",
   "pygments_lexer": "ipython3",
   "version": "3.10.5"
  }
 },
 "nbformat": 4,
 "nbformat_minor": 5
}
